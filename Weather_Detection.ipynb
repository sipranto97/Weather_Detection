{
 "cells": [
  {
   "cell_type": "markdown",
   "id": "7fd3b1c6",
   "metadata": {},
   "source": [
    "# Exploratory Data Analysis"
   ]
  },
  {
   "cell_type": "code",
   "execution_count": 1,
   "id": "54e8cbf8",
   "metadata": {},
   "outputs": [
    {
     "name": "stdout",
     "output_type": "stream",
     "text": [
      "['alien_test', 'cloudy', 'foggy', 'rainy', 'shine', 'sunrise', 'test.csv']\n"
     ]
    }
   ],
   "source": [
    "import warnings\n",
    "import os\n",
    "warnings.filterwarnings('ignore')\n",
    "# Get all the paths\n",
    "data_dir_list = os.listdir('weather_content/weather_dataset')\n",
    "print(data_dir_list)\n",
    "path, dirs, files = next(os.walk(\"weather_content/weather_dataset\"))\n",
    "file_count = len(files)\n",
    "# print(file_count)"
   ]
  },
  {
   "cell_type": "code",
   "execution_count": 3,
   "id": "2b67cc37",
   "metadata": {},
   "outputs": [],
   "source": [
    "# Make new base directory\n",
    "original_dataset_dir = 'weather_content/weather_dataset'\n",
    "base_dir = 'weather_content/test-train-data'\n",
    "os.mkdir(base_dir)"
   ]
  },
  {
   "cell_type": "code",
   "execution_count": 4,
   "id": "599bd882",
   "metadata": {},
   "outputs": [],
   "source": [
    "#create two folders (train and validation)\n",
    "train_dir = os.path.join(base_dir, 'train')\n",
    "os.mkdir(train_dir)\n",
    "\n",
    "validation_dir = os.path.join(base_dir, 'validation')\n",
    "os.mkdir(validation_dir)\n",
    "\n",
    "#Under train folder create five folders \n",
    "# (cloud, folly, rainy, shine, sunrise)\n",
    "\n",
    "train_cloud_dir = os.path.join(train_dir, 'cloudy')\n",
    "os.mkdir(train_cloud_dir)\n",
    "\n",
    "train_foggy_dir = os.path.join(train_dir, 'foggy')\n",
    "os.mkdir(train_foggy_dir)\n",
    "\n",
    "train_rainy_dir = os.path.join(train_dir, 'rainy')\n",
    "os.mkdir(train_rainy_dir)\n",
    "\n",
    "train_shine_dir = os.path.join(train_dir, 'shine')\n",
    "os.mkdir(train_shine_dir)\n",
    "\n",
    "train_sunrise_dir = os.path.join(train_dir, 'sunrise')\n",
    "os.mkdir(train_sunrise_dir)\n",
    "\n",
    "#Under validation folder create five folders \n",
    "# (cloud, folly, rainy, shine, sunrise)\n",
    "\n",
    "validation_cloud_dir = os.path.join(validation_dir, 'cloudy')\n",
    "os.mkdir(validation_cloud_dir)\n",
    "\n",
    "validation_foggy_dir = os.path.join(validation_dir, 'foggy')\n",
    "os.mkdir(validation_foggy_dir)\n",
    "\n",
    "validation_rainy_dir = os.path.join(validation_dir, 'rainy')\n",
    "os.mkdir(validation_rainy_dir)\n",
    "\n",
    "validation_shine_dir = os.path.join(validation_dir, 'shine')\n",
    "os.mkdir(validation_shine_dir)\n",
    "\n",
    "validation_sunrise_dir = os.path.join(validation_dir, 'sunrise')\n",
    "os.mkdir(validation_sunrise_dir)"
   ]
  },
  {
   "cell_type": "code",
   "execution_count": 5,
   "id": "4c033575",
   "metadata": {},
   "outputs": [],
   "source": [
    "def split_data(SOURCE, TRAINING, VALIDATION, SPLIT_SIZE):\n",
    "    files = []\n",
    "    for filename in os.listdir(SOURCE):\n",
    "        file = SOURCE + filename\n",
    "        if os.path.getsize(file) > 0:\n",
    "            files.append(filename)\n",
    "        else:\n",
    "            print(filename + \" is zero length, so ignoring.\")\n",
    "\n",
    "    training_length = int(len(files) * SPLIT_SIZE)\n",
    "    valid_length = int(len(files) - training_length)\n",
    "    shuffled_set = random.sample(files, len(files))\n",
    "    training_set = shuffled_set[0:training_length]\n",
    "    valid_set = shuffled_set[training_length:]\n",
    "\n",
    "    for filename in training_set:\n",
    "        this_file = SOURCE + filename\n",
    "        destination = TRAINING + filename\n",
    "        copyfile(this_file, destination)\n",
    "\n",
    "    for filename in valid_set:\n",
    "        this_file = SOURCE + filename\n",
    "        destination = VALIDATION + filename\n",
    "        copyfile(this_file, destination)"
   ]
  },
  {
   "cell_type": "code",
   "execution_count": 6,
   "id": "7f1e2f97",
   "metadata": {},
   "outputs": [],
   "source": [
    "CLOUDY_SOURCE_DIR = 'weather_content/weather_dataset/cloudy/'\n",
    "TRAINING_CLOUDY_DIR = 'weather_content/test-train-data/train/cloudy/'\n",
    "VALID_CLOUDY_DIR = 'weather_content/test-train-data/validation/cloudy/'\n",
    "\n",
    "FOGGY_SOURCE_DIR = 'weather_content/weather_dataset/foggy/'\n",
    "TRAINING_FOGGY_DIR = 'weather_content/test-train-data/train/foggy/'\n",
    "VALID_FOGGY_DIR = 'weather_content/test-train-data/validation/foggy/'\n",
    "\n",
    "RAINY_SOURCE_DIR = 'weather_content/weather_dataset/rainy/'\n",
    "TRAINING_RAINY_DIR = 'weather_content/test-train-data/train/rainy/'\n",
    "VALID_RAINY_DIR = 'weather_content/test-train-data/validation/rainy/'\n",
    "\n",
    "SHINE_SOURCE_DIR = 'weather_content/weather_dataset/shine/'\n",
    "TRAINING_SHINE_DIR = 'weather_content/test-train-data/train/shine/'\n",
    "VALID_SHINE_DIR = 'weather_content/test-train-data/validation/shine/'\n",
    "\n",
    "SUNRISE_SOURCE_DIR = 'weather_content/weather_dataset/sunrise/'\n",
    "TRAINING_SUNRISE_DIR = 'weather_content/test-train-data/train/sunrise/'\n",
    "VALID_SUNRISE_DIR = 'weather_content/test-train-data/validation/sunrise/'"
   ]
  },
  {
   "cell_type": "code",
   "execution_count": 7,
   "id": "fa572db8",
   "metadata": {},
   "outputs": [],
   "source": [
    "import os\n",
    "import random\n",
    "from shutil import copyfile\n",
    "\n",
    "split_size = .85\n",
    "\n",
    "split_data(CLOUDY_SOURCE_DIR, TRAINING_CLOUDY_DIR, VALID_CLOUDY_DIR, split_size)\n",
    "split_data(FOGGY_SOURCE_DIR, TRAINING_FOGGY_DIR, VALID_FOGGY_DIR, split_size)\n",
    "split_data(RAINY_SOURCE_DIR, TRAINING_RAINY_DIR, VALID_RAINY_DIR, split_size)\n",
    "split_data(SHINE_SOURCE_DIR, TRAINING_SHINE_DIR, VALID_SHINE_DIR, split_size)\n",
    "split_data(SUNRISE_SOURCE_DIR, TRAINING_SUNRISE_DIR, VALID_SUNRISE_DIR, split_size)\n"
   ]
  },
  {
   "cell_type": "code",
   "execution_count": 8,
   "id": "cd98739e",
   "metadata": {},
   "outputs": [
    {
     "data": {
      "image/png": "[encoded data removed]",
      "text/plain": [
       "<Figure size 648x432 with 1 Axes>"
      ]
     },
     "metadata": {
      "needs_background": "light"
     },
     "output_type": "display_data"
    }
   ],
   "source": [
    "import matplotlib.pyplot as plt\n",
    "import seaborn as sns\n",
    "from matplotlib.image import imread\n",
    "%matplotlib inline\n",
    "import pathlib\n",
    "\n",
    "image_folder = ['cloudy', 'foggy', 'rainy', 'shine', 'sunrise']\n",
    "nimgs = {}\n",
    "for i in image_folder:\n",
    "    nimages = len(os.listdir('weather_content/test-train-data/train/'+i+'/'))\n",
    "    nimgs[i]=nimages\n",
    "plt.figure(figsize=(9, 6))\n",
    "plt.bar(range(len(nimgs)), list(nimgs.values()), align='center')\n",
    "plt.xticks(range(len(nimgs)), list(nimgs.keys()))\n",
    "plt.title('Distribution of different classes in Training Dataset')\n",
    "plt.show()"
   ]
  },
  {
   "cell_type": "code",
   "execution_count": 9,
   "id": "7234a31c",
   "metadata": {},
   "outputs": [
    {
     "name": "stdout",
     "output_type": "stream",
     "text": [
      "Training cloudy images are: 255\n",
      "Training foggy images are: 255\n",
      "Training rainy images are: 255\n",
      "Training shine images are: 212\n",
      "Training sunrise images are: 297\n"
     ]
    }
   ],
   "source": [
    "for i in ['cloudy', 'foggy', 'rainy', 'shine', 'sunrise']:\n",
    "    print('Training {} images are: '.format(i)+str(len(os.listdir('weather_content/test-train-data/train/'+i+'/'))))"
   ]
  },
  {
   "cell_type": "markdown",
   "id": "bf8ed928",
   "metadata": {},
   "source": [
    "# Deep Learning with Data Augumentation\n"
   ]
  },
  {
   "cell_type": "code",
   "execution_count": 10,
   "id": "86cd0be1",
   "metadata": {},
   "outputs": [],
   "source": [
    "from tensorflow.keras.optimizers import Adam\n",
    "from tensorflow.keras.preprocessing.image import ImageDataGenerator\n",
    "from tensorflow.keras.layers import Conv2D, MaxPooling2D, Flatten, Dense, Dropout\n",
    "from tensorflow.keras.models import Sequential\n",
    "from tensorflow.keras.callbacks import EarlyStopping, ModelCheckpoint"
   ]
  },
  {
   "cell_type": "code",
   "execution_count": 11,
   "id": "dc22692a",
   "metadata": {},
   "outputs": [],
   "source": [
    "img_width=256; img_height=256\n",
    "batch_size=16"
   ]
  },
  {
   "cell_type": "code",
   "execution_count": 12,
   "id": "3e902534",
   "metadata": {},
   "outputs": [
    {
     "name": "stdout",
     "output_type": "stream",
     "text": [
      "Found 1274 images belonging to 5 classes.\n"
     ]
    }
   ],
   "source": [
    "\n",
    "TRAINING_DIR = 'weather_content/test-train-data/train/'\n",
    "\n",
    "train_datagen = ImageDataGenerator(rescale = 1/255.0,\n",
    "                                   rotation_range=30,\n",
    "                                   zoom_range=0.4,\n",
    "                                   horizontal_flip=True)\n",
    "\n",
    "train_generator = train_datagen.flow_from_directory(TRAINING_DIR,\n",
    "                                                    batch_size=batch_size,\n",
    "                                                    class_mode='categorical',\n",
    "                                                    target_size=(img_height, img_width))"
   ]
  },
  {
   "cell_type": "code",
   "execution_count": 13,
   "id": "f67c367a",
   "metadata": {},
   "outputs": [
    {
     "name": "stdout",
     "output_type": "stream",
     "text": [
      "Found 226 images belonging to 5 classes.\n"
     ]
    }
   ],
   "source": [
    "VALIDATION_DIR = 'weather_content/test-train-data/validation/'\n",
    "\n",
    "validation_datagen = ImageDataGenerator(rescale = 1/255.0)\n",
    "\n",
    "validation_generator = validation_datagen.flow_from_directory(VALIDATION_DIR,\n",
    "                                                              batch_size=batch_size,\n",
    "                                                              class_mode='categorical',\n",
    "                                                              target_size=(img_height, img_width)\n",
    "                                                             )"
   ]
  },
  {
   "cell_type": "code",
   "execution_count": 14,
   "id": "372b1071",
   "metadata": {},
   "outputs": [],
   "source": [
    "callbacks = EarlyStopping(monitor='val_loss', patience=5, verbose=1, mode='auto')\n",
    "# autosave best Model\n",
    "best_model_file = '/content/CNN_aug_best_weights.h5'\n",
    "best_model = ModelCheckpoint(best_model_file, monitor='val_acc', verbose = 1, save_best_only = True)"
   ]
  },
  {
   "cell_type": "code",
   "execution_count": 15,
   "id": "dfae36f0",
   "metadata": {},
   "outputs": [
    {
     "name": "stdout",
     "output_type": "stream",
     "text": [
      "Model: \"sequential\"\n",
      "_________________________________________________________________\n",
      "Layer (type)                 Output Shape              Param #   \n",
      "=================================================================\n",
      "conv2d (Conv2D)              (None, 254, 254, 16)      448       \n",
      "_________________________________________________________________\n",
      "max_pooling2d (MaxPooling2D) (None, 127, 127, 16)      0         \n",
      "_________________________________________________________________\n",
      "conv2d_1 (Conv2D)            (None, 125, 125, 32)      4640      \n",
      "_________________________________________________________________\n",
      "max_pooling2d_1 (MaxPooling2 (None, 62, 62, 32)        0         \n",
      "_________________________________________________________________\n",
      "conv2d_2 (Conv2D)            (None, 60, 60, 64)        18496     \n",
      "_________________________________________________________________\n",
      "conv2d_3 (Conv2D)            (None, 58, 58, 64)        36928     \n",
      "_________________________________________________________________\n",
      "max_pooling2d_2 (MaxPooling2 (None, 29, 29, 64)        0         \n",
      "_________________________________________________________________\n",
      "conv2d_4 (Conv2D)            (None, 27, 27, 128)       73856     \n",
      "_________________________________________________________________\n",
      "conv2d_5 (Conv2D)            (None, 25, 25, 128)       147584    \n",
      "_________________________________________________________________\n",
      "max_pooling2d_3 (MaxPooling2 (None, 12, 12, 128)       0         \n",
      "_________________________________________________________________\n",
      "conv2d_6 (Conv2D)            (None, 10, 10, 256)       295168    \n",
      "_________________________________________________________________\n",
      "conv2d_7 (Conv2D)            (None, 8, 8, 256)         590080    \n",
      "_________________________________________________________________\n",
      "conv2d_8 (Conv2D)            (None, 6, 6, 256)         590080    \n",
      "_________________________________________________________________\n",
      "max_pooling2d_4 (MaxPooling2 (None, 3, 3, 256)         0         \n",
      "_________________________________________________________________\n",
      "flatten (Flatten)            (None, 2304)              0         \n",
      "_________________________________________________________________\n",
      "dense (Dense)                (None, 512)               1180160   \n",
      "_________________________________________________________________\n",
      "dense_1 (Dense)              (None, 512)               262656    \n",
      "_________________________________________________________________\n",
      "dense_2 (Dense)              (None, 5)                 2565      \n",
      "=================================================================\n",
      "Total params: 3,202,661\n",
      "Trainable params: 3,202,661\n",
      "Non-trainable params: 0\n",
      "_________________________________________________________________\n"
     ]
    }
   ],
   "source": [
    "model = Sequential([\n",
    "    Conv2D(16, (3, 3), activation='relu', input_shape=(img_height, img_width, 3)), MaxPooling2D(2, 2),\n",
    "    Conv2D(32, (3, 3), activation='relu'), MaxPooling2D(2, 2),\n",
    "    Conv2D(64, (3, 3), activation='relu'),\n",
    "    Conv2D(64, (3, 3), activation='relu'),\n",
    "    MaxPooling2D(2, 2),\n",
    "    Conv2D(128, (3, 3), activation='relu'),\n",
    "    Conv2D(128, (3, 3), activation='relu'),\n",
    "    MaxPooling2D(2, 2),\n",
    "    Conv2D(256, (3, 3), activation='relu'),\n",
    "    Conv2D(256, (3, 3), activation='relu'),\n",
    "    Conv2D(256, (3, 3), activation='relu'),\n",
    "    MaxPooling2D(2, 2),\n",
    "    Flatten(),\n",
    "    Dense(512, activation='relu'),\n",
    "    Dense(512, activation='relu'),\n",
    "    Dense(5, activation='softmax')\n",
    "])\n",
    "model.summary()"
   ]
  },
  {
   "cell_type": "code",
   "execution_count": 16,
   "id": "91befbb2",
   "metadata": {},
   "outputs": [],
   "source": [
    "model.compile(optimizer='Adam', \n",
    "              loss='categorical_crossentropy', \n",
    "              metrics =['accuracy'])\n"
   ]
  },
  {
   "cell_type": "code",
   "execution_count": 17,
   "id": "b4a856ee",
   "metadata": {},
   "outputs": [
    {
     "name": "stdout",
     "output_type": "stream",
     "text": [
      "Epoch 1/30\n",
      "80/80 [==============================] - ETA: 0s - loss: 1.4543 - accuracy: 0.3328WARNING:tensorflow:Can save best model only with val_acc available, skipping.\n",
      "80/80 [==============================] - 73s 915ms/step - loss: 1.4543 - accuracy: 0.3328 - val_loss: 1.3120 - val_accuracy: 0.3938\n",
      "Epoch 2/30\n",
      "80/80 [==============================] - ETA: 0s - loss: 1.1853 - accuracy: 0.4725WARNING:tensorflow:Can save best model only with val_acc available, skipping.\n",
      "80/80 [==============================] - 70s 881ms/step - loss: 1.1853 - accuracy: 0.4725 - val_loss: 1.1650 - val_accuracy: 0.4779\n",
      "Epoch 3/30\n",
      "80/80 [==============================] - ETA: 0s - loss: 1.0295 - accuracy: 0.5330WARNING:tensorflow:Can save best model only with val_acc available, skipping.\n",
      "80/80 [==============================] - 73s 914ms/step - loss: 1.0295 - accuracy: 0.5330 - val_loss: 0.9372 - val_accuracy: 0.5442\n",
      "Epoch 4/30\n",
      "80/80 [==============================] - ETA: 0s - loss: 0.9823 - accuracy: 0.5502WARNING:tensorflow:Can save best model only with val_acc available, skipping.\n",
      "80/80 [==============================] - 71s 891ms/step - loss: 0.9823 - accuracy: 0.5502 - val_loss: 0.9580 - val_accuracy: 0.5398\n",
      "Epoch 5/30\n",
      "80/80 [==============================] - ETA: 0s - loss: 0.9537 - accuracy: 0.5777WARNING:tensorflow:Can save best model only with val_acc available, skipping.\n",
      "80/80 [==============================] - 77s 960ms/step - loss: 0.9537 - accuracy: 0.5777 - val_loss: 0.8689 - val_accuracy: 0.6770\n",
      "Epoch 6/30\n",
      "80/80 [==============================] - ETA: 0s - loss: 1.0064 - accuracy: 0.5879WARNING:tensorflow:Can save best model only with val_acc available, skipping.\n",
      "80/80 [==============================] - 74s 926ms/step - loss: 1.0064 - accuracy: 0.5879 - val_loss: 0.9299 - val_accuracy: 0.5664\n",
      "Epoch 7/30\n",
      "80/80 [==============================] - ETA: 0s - loss: 0.9308 - accuracy: 0.5911WARNING:tensorflow:Can save best model only with val_acc available, skipping.\n",
      "80/80 [==============================] - 73s 913ms/step - loss: 0.9308 - accuracy: 0.5911 - val_loss: 0.9116 - val_accuracy: 0.5442\n",
      "Epoch 8/30\n",
      "80/80 [==============================] - ETA: 0s - loss: 1.0400 - accuracy: 0.5416WARNING:tensorflow:Can save best model only with val_acc available, skipping.\n",
      "80/80 [==============================] - 73s 916ms/step - loss: 1.0400 - accuracy: 0.5416 - val_loss: 1.1383 - val_accuracy: 0.5929\n",
      "Epoch 9/30\n",
      "80/80 [==============================] - ETA: 0s - loss: 0.9572 - accuracy: 0.5644WARNING:tensorflow:Can save best model only with val_acc available, skipping.\n",
      "80/80 [==============================] - 75s 940ms/step - loss: 0.9572 - accuracy: 0.5644 - val_loss: 0.8340 - val_accuracy: 0.6239\n",
      "Epoch 10/30\n",
      "80/80 [==============================] - ETA: 0s - loss: 1.0747 - accuracy: 0.5683WARNING:tensorflow:Can save best model only with val_acc available, skipping.\n",
      "80/80 [==============================] - 83s 1s/step - loss: 1.0747 - accuracy: 0.5683 - val_loss: 0.9851 - val_accuracy: 0.5133\n",
      "Epoch 11/30\n",
      "80/80 [==============================] - ETA: 0s - loss: 0.9233 - accuracy: 0.5644WARNING:tensorflow:Can save best model only with val_acc available, skipping.\n",
      "80/80 [==============================] - 86s 1s/step - loss: 0.9233 - accuracy: 0.5644 - val_loss: 0.9879 - val_accuracy: 0.5752\n",
      "Epoch 12/30\n",
      "80/80 [==============================] - ETA: 0s - loss: 0.9186 - accuracy: 0.5879WARNING:tensorflow:Can save best model only with val_acc available, skipping.\n",
      "80/80 [==============================] - 78s 973ms/step - loss: 0.9186 - accuracy: 0.5879 - val_loss: 0.8969 - val_accuracy: 0.5575\n",
      "Epoch 13/30\n",
      "80/80 [==============================] - ETA: 0s - loss: 0.9119 - accuracy: 0.5691WARNING:tensorflow:Can save best model only with val_acc available, skipping.\n",
      "80/80 [==============================] - 78s 971ms/step - loss: 0.9119 - accuracy: 0.5691 - val_loss: 0.8811 - val_accuracy: 0.6283\n",
      "Epoch 14/30\n",
      "80/80 [==============================] - ETA: 0s - loss: 0.8893 - accuracy: 0.6138WARNING:tensorflow:Can save best model only with val_acc available, skipping.\n",
      "80/80 [==============================] - 75s 939ms/step - loss: 0.8893 - accuracy: 0.6138 - val_loss: 0.9277 - val_accuracy: 0.5575\n",
      "Epoch 15/30\n",
      "80/80 [==============================] - ETA: 0s - loss: 0.8463 - accuracy: 0.6287WARNING:tensorflow:Can save best model only with val_acc available, skipping.\n",
      "80/80 [==============================] - 76s 951ms/step - loss: 0.8463 - accuracy: 0.6287 - val_loss: 0.8185 - val_accuracy: 0.6726\n",
      "Epoch 16/30\n",
      "80/80 [==============================] - ETA: 0s - loss: 0.8635 - accuracy: 0.6264WARNING:tensorflow:Can save best model only with val_acc available, skipping.\n",
      "80/80 [==============================] - 75s 935ms/step - loss: 0.8635 - accuracy: 0.6264 - val_loss: 0.8845 - val_accuracy: 0.6150\n",
      "Epoch 17/30\n",
      "80/80 [==============================] - ETA: 0s - loss: 0.8289 - accuracy: 0.6554WARNING:tensorflow:Can save best model only with val_acc available, skipping.\n",
      "80/80 [==============================] - 75s 937ms/step - loss: 0.8289 - accuracy: 0.6554 - val_loss: 0.8145 - val_accuracy: 0.6327\n",
      "Epoch 18/30\n",
      "80/80 [==============================] - ETA: 0s - loss: 0.8632 - accuracy: 0.6209WARNING:tensorflow:Can save best model only with val_acc available, skipping.\n",
      "80/80 [==============================] - 75s 937ms/step - loss: 0.8632 - accuracy: 0.6209 - val_loss: 0.8528 - val_accuracy: 0.6372\n",
      "Epoch 19/30\n",
      "80/80 [==============================] - ETA: 0s - loss: 0.8155 - accuracy: 0.6452WARNING:tensorflow:Can save best model only with val_acc available, skipping.\n",
      "80/80 [==============================] - 76s 950ms/step - loss: 0.8155 - accuracy: 0.6452 - val_loss: 0.7624 - val_accuracy: 0.6770\n",
      "Epoch 20/30\n",
      "80/80 [==============================] - ETA: 0s - loss: 0.7844 - accuracy: 0.6460WARNING:tensorflow:Can save best model only with val_acc available, skipping.\n",
      "80/80 [==============================] - 77s 965ms/step - loss: 0.7844 - accuracy: 0.6460 - val_loss: 0.8507 - val_accuracy: 0.6504\n",
      "Epoch 21/30\n",
      "80/80 [==============================] - ETA: 0s - loss: 0.7654 - accuracy: 0.6586WARNING:tensorflow:Can save best model only with val_acc available, skipping.\n",
      "80/80 [==============================] - 79s 993ms/step - loss: 0.7654 - accuracy: 0.6586 - val_loss: 0.7340 - val_accuracy: 0.6372\n",
      "Epoch 22/30\n",
      "80/80 [==============================] - ETA: 0s - loss: 0.7713 - accuracy: 0.6625WARNING:tensorflow:Can save best model only with val_acc available, skipping.\n",
      "80/80 [==============================] - 76s 944ms/step - loss: 0.7713 - accuracy: 0.6625 - val_loss: 0.8112 - val_accuracy: 0.6195\n",
      "Epoch 23/30\n",
      "80/80 [==============================] - ETA: 0s - loss: 0.7344 - accuracy: 0.6852WARNING:tensorflow:Can save best model only with val_acc available, skipping.\n",
      "80/80 [==============================] - 75s 933ms/step - loss: 0.7344 - accuracy: 0.6852 - val_loss: 0.7532 - val_accuracy: 0.6593\n",
      "Epoch 24/30\n",
      "80/80 [==============================] - ETA: 0s - loss: 0.7196 - accuracy: 0.7002WARNING:tensorflow:Can save best model only with val_acc available, skipping.\n",
      "80/80 [==============================] - 73s 912ms/step - loss: 0.7196 - accuracy: 0.7002 - val_loss: 0.8152 - val_accuracy: 0.6549\n",
      "Epoch 25/30\n",
      "80/80 [==============================] - ETA: 0s - loss: 0.7822 - accuracy: 0.6641WARNING:tensorflow:Can save best model only with val_acc available, skipping.\n",
      "80/80 [==============================] - 75s 933ms/step - loss: 0.7822 - accuracy: 0.6641 - val_loss: 0.7571 - val_accuracy: 0.6327\n",
      "Epoch 26/30\n",
      "80/80 [==============================] - ETA: 0s - loss: 0.7225 - accuracy: 0.6947WARNING:tensorflow:Can save best model only with val_acc available, skipping.\n",
      "80/80 [==============================] - 75s 932ms/step - loss: 0.7225 - accuracy: 0.6947 - val_loss: 0.9089 - val_accuracy: 0.6239\n",
      "Epoch 27/30\n",
      "80/80 [==============================] - ETA: 0s - loss: 0.7542 - accuracy: 0.6750WARNING:tensorflow:Can save best model only with val_acc available, skipping.\n",
      "80/80 [==============================] - 75s 943ms/step - loss: 0.7542 - accuracy: 0.6750 - val_loss: 1.0130 - val_accuracy: 0.6239\n"
     ]
    },
    {
     "name": "stdout",
     "output_type": "stream",
     "text": [
      "Epoch 28/30\n",
      "80/80 [==============================] - ETA: 0s - loss: 0.7325 - accuracy: 0.6970WARNING:tensorflow:Can save best model only with val_acc available, skipping.\n",
      "80/80 [==============================] - 75s 935ms/step - loss: 0.7325 - accuracy: 0.6970 - val_loss: 0.6883 - val_accuracy: 0.6947\n",
      "Epoch 29/30\n",
      "80/80 [==============================] - ETA: 0s - loss: 0.7265 - accuracy: 0.6845WARNING:tensorflow:Can save best model only with val_acc available, skipping.\n",
      "80/80 [==============================] - 77s 957ms/step - loss: 0.7265 - accuracy: 0.6845 - val_loss: 0.7300 - val_accuracy: 0.6726\n",
      "Epoch 30/30\n",
      "80/80 [==============================] - ETA: 0s - loss: 0.6859 - accuracy: 0.6954WARNING:tensorflow:Can save best model only with val_acc available, skipping.\n",
      "80/80 [==============================] - 75s 936ms/step - loss: 0.6859 - accuracy: 0.6954 - val_loss: 0.7071 - val_accuracy: 0.7389\n"
     ]
    }
   ],
   "source": [
    "history = model.fit(train_generator,\n",
    "                              epochs=30,\n",
    "                              verbose=1,\n",
    "                              validation_data=validation_generator,\n",
    "                              callbacks = [best_model]\n",
    "                              )"
   ]
  },
  {
   "cell_type": "code",
   "execution_count": 18,
   "id": "22648ce1",
   "metadata": {},
   "outputs": [
    {
     "data": {
      "image/png": "[encoded data removed]",
      "text/plain": [
       "<Figure size 1008x504 with 1 Axes>"
      ]
     },
     "metadata": {
      "needs_background": "light"
     },
     "output_type": "display_data"
    }
   ],
   "source": [
    "acc=history.history['accuracy']\n",
    "val_acc=history.history['val_accuracy']\n",
    "loss=history.history['loss']\n",
    "val_loss=history.history['val_loss']\n",
    "\n",
    "epochs=range(len(acc))\n",
    "\n",
    "fig = plt.figure(figsize=(14,7))\n",
    "plt.plot(epochs, acc, 'r', label=\"Training Accuracy\")\n",
    "plt.plot(epochs, val_acc, 'b', label=\"Validation Accuracy\")\n",
    "plt.xlabel('Epoch')\n",
    "plt.ylabel('Accuracy')\n",
    "plt.title('Training and validation accuracy')\n",
    "plt.legend(loc='lower right')\n",
    "plt.show()"
   ]
  },
  {
   "cell_type": "code",
   "execution_count": 19,
   "id": "e16d7332",
   "metadata": {},
   "outputs": [
    {
     "data": {
      "text/plain": [
       "Text(0.5, 1.0, 'Training and validation loss')"
      ]
     },
     "execution_count": 19,
     "metadata": {},
     "output_type": "execute_result"
    },
    {
     "data": {
      "image/png": "[encoded data removed]",
      "text/plain": [
       "<Figure size 1008x504 with 1 Axes>"
      ]
     },
     "metadata": {
      "needs_background": "light"
     },
     "output_type": "display_data"
    }
   ],
   "source": [
    "fig2 = plt.figure(figsize=(14,7))\n",
    "plt.plot(epochs, loss, 'r', label=\"Training Loss\")\n",
    "plt.plot(epochs, val_loss, 'b', label=\"Validation Loss\")\n",
    "plt.legend(loc='upper right')\n",
    "plt.xlabel('Epoch')\n",
    "plt.ylabel('Loss')\n",
    "plt.title('Training and validation loss')"
   ]
  },
  {
   "cell_type": "code",
   "execution_count": 20,
   "id": "96a07c31",
   "metadata": {},
   "outputs": [],
   "source": [
    "## Test Performance on Test Data\n",
    "\n",
    "import pandas as pd\n",
    "import numpy as np\n",
    "from tensorflow.keras.preprocessing.image import load_img, img_to_array\n",
    "\n",
    "def preprocess_image(path):\n",
    "    img = load_img(path, target_size = (img_height, img_width))\n",
    "    a = img_to_array(img)\n",
    "    a = np.expand_dims(a, axis = 0)\n",
    "    a /= 255.\n",
    "    return a"
   ]
  },
  {
   "cell_type": "code",
   "execution_count": 21,
   "id": "6fec307c",
   "metadata": {},
   "outputs": [],
   "source": [
    "# Read Test Images Dir and their labels\n",
    "test_images_dir = 'weather_content/weather_dataset/alien_test/'\n",
    "test_df = pd.read_csv('weather_content/weather_dataset/test.csv')\n",
    "\n",
    "# put them in a list\n",
    "test_dfToList = test_df['Image_id'].tolist()\n",
    "test_ids = [str(item) for item in test_dfToList]\n",
    "\n",
    "test_images = [test_images_dir+item for item in test_ids]\n",
    "test_preprocessed_images = np.vstack([preprocess_image(fn) for fn in test_images])\n",
    "np.save('weather_content/test_preproc_CNN.npy', test_preprocessed_images)"
   ]
  },
  {
   "cell_type": "code",
   "execution_count": 49,
   "id": "e9109d9e",
   "metadata": {},
   "outputs": [
    {
     "name": "stdout",
     "output_type": "stream",
     "text": [
      "['Cloud_1.png', 'Cloud_2.jpg', 'Cloud_3.jpeg', 'Cloud_4.jpg', 'foggy_1.jpg', 'foggy_2.jpg', 'foggy_3.jpg', 'foggy_4.jpg', 'foggy_5.jpg', 'foggy_6.jpg', 'foggy_7.jpg', 'foggy_8.jpg', 'foggy_9.jpg', 'foggy_10.jpg', 'rain_1.jpg', 'rain_2.png', 'rain_3.jpg', 'rain_4.jpg', 'rain_5.jpg', 'rain_6.jpg', 'shine_1.jpg', 'shine_2.jpg', 'shine_3.jpg', 'sunrise_1.jpg', 'sunrise_2.jpg', 'sunrise_3.jpg', 'sunrise_4.jpg', 'sunrise_5.jpg', 'sunrise_6.jpg', 'sunrise_7.jpg']\n"
     ]
    }
   ],
   "source": [
    "print(test_ids)"
   ]
  },
  {
   "cell_type": "code",
   "execution_count": 31,
   "id": "08dc66f0",
   "metadata": {},
   "outputs": [
    {
     "name": "stdout",
     "output_type": "stream",
     "text": [
      "30/30 [==============================] - 1s 17ms/step\n",
      "[1 0 3 3 1 0 2 0 0 0 4 3 2 0 2 2 2 2 2 2 3 3 3 4 4 4 4 4 4 4]\n"
     ]
    }
   ],
   "source": [
    "array = model.predict(test_preprocessed_images, batch_size=1, verbose=1)\n",
    "answer = np.argmax(array, axis=1)\n",
    "print(answer)"
   ]
  },
  {
   "cell_type": "code",
   "execution_count": 33,
   "id": "9faad691",
   "metadata": {},
   "outputs": [
    {
     "name": "stdout",
     "output_type": "stream",
     "text": [
      "0     0\n",
      "1     0\n",
      "2     0\n",
      "3     0\n",
      "4     1\n",
      "5     1\n",
      "6     1\n",
      "7     1\n",
      "8     1\n",
      "9     1\n",
      "10    1\n",
      "11    1\n",
      "12    1\n",
      "13    1\n",
      "14    2\n",
      "15    2\n",
      "16    2\n",
      "17    2\n",
      "18    2\n",
      "19    2\n",
      "20    3\n",
      "21    3\n",
      "22    3\n",
      "23    4\n",
      "24    4\n",
      "25    4\n",
      "26    4\n",
      "27    4\n",
      "28    4\n",
      "29    4\n",
      "Name: labels, dtype: int64\n"
     ]
    }
   ],
   "source": [
    "test_df = pd.read_csv('weather_content/weather_dataset/test.csv')\n",
    "y_true = test_df['labels']\n",
    "y_pred = array\n",
    "print(y_true)"
   ]
  },
  {
   "cell_type": "code",
   "execution_count": 37,
   "id": "732f689f",
   "metadata": {},
   "outputs": [],
   "source": [
    "from sklearn.metrics import log_loss\n",
    "loss = log_loss(y_true, y_pred, eps=1e-15, normalize=True, sample_weight=None, labels=None)"
   ]
  },
  {
   "cell_type": "code",
   "execution_count": 38,
   "id": "38abe6ea",
   "metadata": {},
   "outputs": [
    {
     "data": {
      "text/plain": [
       "array([[1, 1, 0, 2, 0],\n",
       "       [5, 1, 2, 1, 1],\n",
       "       [0, 0, 6, 0, 0],\n",
       "       [0, 0, 0, 3, 0],\n",
       "       [0, 0, 0, 0, 7]], dtype=int64)"
      ]
     },
     "execution_count": 38,
     "metadata": {},
     "output_type": "execute_result"
    }
   ],
   "source": [
    "from sklearn.metrics import confusion_matrix\n",
    "conf_mat = confusion_matrix(y_true, answer)\n",
    "conf_mat\n"
   ]
  },
  {
   "cell_type": "code",
   "execution_count": 39,
   "id": "70bc6129",
   "metadata": {},
   "outputs": [],
   "source": [
    "train_dir = 'weather_content/test-train-data/train/'\n",
    "classes = os.listdir(train_dir)"
   ]
  },
  {
   "cell_type": "code",
   "execution_count": 40,
   "id": "8680be85",
   "metadata": {},
   "outputs": [],
   "source": [
    "\n",
    "import itertools\n",
    "def plot_confusion_matrix(cm, classes,\n",
    "                          normalize=False,\n",
    "                          title='Confusion matrix',\n",
    "                          cmap=plt.cm.Reds):\n",
    "    \"\"\"\n",
    "    This function prints and plots the confusion matrix.\n",
    "    Normalization can be applied by setting `normalize=True`.\n",
    "    \"\"\"\n",
    "    plt.imshow(cm, interpolation='nearest', cmap=cmap)\n",
    "    plt.title(title)\n",
    "    plt.colorbar()\n",
    "    tick_marks = np.arange(len(classes))\n",
    "    plt.xticks(tick_marks, classes, rotation=45)\n",
    "    plt.yticks(tick_marks, classes)\n",
    "\n",
    "    if normalize:\n",
    "        cm = cm.astype('float') / cm.sum(axis=1)[:, np.newaxis]\n",
    "        cm = cm.round(2)\n",
    "        #print(\"Normalized confusion matrix\")\n",
    "    else:\n",
    "        cm=cm\n",
    "        #print('Confusion matrix, without normalization')\n",
    "\n",
    "    #print(cm)\n",
    "\n",
    "    thresh = cm.max() / 2.\n",
    "    for i, j in itertools.product(range(cm.shape[0]), range(cm.shape[1])):\n",
    "        plt.text(j, i, cm[i, j],\n",
    "                 horizontalalignment=\"center\",\n",
    "                 color=\"white\" if cm[i, j] > thresh else \"black\")\n",
    "\n",
    "    plt.tight_layout()\n",
    "    plt.ylabel('True label')\n",
    "    plt.xlabel('Predicted label')"
   ]
  },
  {
   "cell_type": "code",
   "execution_count": 41,
   "id": "1fdb3b66",
   "metadata": {},
   "outputs": [
    {
     "data": {
      "image/png": "[encoded data removed]",
      "text/plain": [
       "<Figure size 504x432 with 2 Axes>"
      ]
     },
     "metadata": {
      "needs_background": "light"
     },
     "output_type": "display_data"
    }
   ],
   "source": [
    "np.set_printoptions(precision=2)\n",
    "\n",
    "fig1 = plt.figure(figsize=(7,6))\n",
    "plot_confusion_matrix(conf_mat, classes=classes, title='Confusion matrix, without normalization')\n",
    "plt.show()"
   ]
  },
  {
   "cell_type": "code",
   "execution_count": null,
   "id": "c80bd234",
   "metadata": {},
   "outputs": [],
   "source": []
  }
 ],
 "metadata": {
  "kernelspec": {
   "display_name": "Python 3",
   "language": "python",
   "name": "python3"
  },
  "language_info": {
   "codemirror_mode": {
    "name": "ipython",
    "version": 3
   },
   "file_extension": ".py",
   "mimetype": "text/x-python",
   "name": "python",
   "nbconvert_exporter": "python",
   "pygments_lexer": "ipython3",
   "version": "3.8.8"
  }
 },
 "nbformat": 4,
 "nbformat_minor": 5
}
