{
 "cells": [
  {
   "cell_type": "markdown",
   "id": "7fd3b1c6",
   "metadata": {},
   "source": [
    "# Exploratory Data Analysis"
   ]
  },
  {
   "cell_type": "code",
   "execution_count": 1,
   "id": "54e8cbf8",
   "metadata": {},
   "outputs": [
    {
     "name": "stdout",
     "output_type": "stream",
     "text": [
      "['alien_test', 'cloudy', 'foggy', 'rainy', 'shine', 'sunrise', 'test.csv']\n"
     ]
    }
   ],
   "source": [
    "import warnings\n",
    "import os\n",
    "warnings.filterwarnings('ignore')\n",
    "# Get all the paths\n",
    "data_dir_list = os.listdir('weather_content/weather_dataset')\n",
    "print(data_dir_list)\n",
    "path, dirs, files = next(os.walk(\"weather_content/weather_dataset\"))\n",
    "file_count = len(files)\n",
    "# print(file_count)"
   ]
  },
  {
   "cell_type": "code",
   "execution_count": 2,
   "id": "2b67cc37",
   "metadata": {},
   "outputs": [],
   "source": [
    "# Make new base directory\n",
    "original_dataset_dir = 'weather_content/weather_dataset'\n",
    "base_dir = 'weather_content/test-train-data'\n",
    "os.mkdir(base_dir)"
   ]
  },
  {
   "cell_type": "code",
   "execution_count": 3,
   "id": "599bd882",
   "metadata": {},
   "outputs": [],
   "source": [
    "#create two folders (train and validation)\n",
    "train_dir = os.path.join(base_dir, 'train')\n",
    "os.mkdir(train_dir)\n",
    "\n",
    "validation_dir = os.path.join(base_dir, 'validation')\n",
    "os.mkdir(validation_dir)\n",
    "\n",
    "#Under train folder create five folders \n",
    "# (cloud, folly, rainy, shine, sunrise)\n",
    "\n",
    "train_cloud_dir = os.path.join(train_dir, 'cloudy')\n",
    "os.mkdir(train_cloud_dir)\n",
    "\n",
    "train_foggy_dir = os.path.join(train_dir, 'foggy')\n",
    "os.mkdir(train_foggy_dir)\n",
    "\n",
    "train_rainy_dir = os.path.join(train_dir, 'rainy')\n",
    "os.mkdir(train_rainy_dir)\n",
    "\n",
    "train_shine_dir = os.path.join(train_dir, 'shine')\n",
    "os.mkdir(train_shine_dir)\n",
    "\n",
    "train_sunrise_dir = os.path.join(train_dir, 'sunrise')\n",
    "os.mkdir(train_sunrise_dir)\n",
    "\n",
    "#Under validation folder create five folders \n",
    "# (cloud, folly, rainy, shine, sunrise)\n",
    "\n",
    "validation_cloud_dir = os.path.join(validation_dir, 'cloudy')\n",
    "os.mkdir(validation_cloud_dir)\n",
    "\n",
    "validation_foggy_dir = os.path.join(validation_dir, 'foggy')\n",
    "os.mkdir(validation_foggy_dir)\n",
    "\n",
    "validation_rainy_dir = os.path.join(validation_dir, 'rainy')\n",
    "os.mkdir(validation_rainy_dir)\n",
    "\n",
    "validation_shine_dir = os.path.join(validation_dir, 'shine')\n",
    "os.mkdir(validation_shine_dir)\n",
    "\n",
    "validation_sunrise_dir = os.path.join(validation_dir, 'sunrise')\n",
    "os.mkdir(validation_sunrise_dir)"
   ]
  },
  {
   "cell_type": "code",
   "execution_count": 4,
   "id": "4c033575",
   "metadata": {},
   "outputs": [],
   "source": [
    "def split_data(SOURCE, TRAINING, VALIDATION, SPLIT_SIZE):\n",
    "    files = []\n",
    "    for filename in os.listdir(SOURCE):\n",
    "        file = SOURCE + filename\n",
    "        if os.path.getsize(file) > 0:\n",
    "            files.append(filename)\n",
    "        else:\n",
    "            print(filename + \" is zero length, so ignoring.\")\n",
    "\n",
    "    training_length = int(len(files) * SPLIT_SIZE)\n",
    "    valid_length = int(len(files) - training_length)\n",
    "    shuffled_set = random.sample(files, len(files))\n",
    "    training_set = shuffled_set[0:training_length]\n",
    "    valid_set = shuffled_set[training_length:]\n",
    "\n",
    "    for filename in training_set:\n",
    "        this_file = SOURCE + filename\n",
    "        destination = TRAINING + filename\n",
    "        copyfile(this_file, destination)\n",
    "\n",
    "    for filename in valid_set:\n",
    "        this_file = SOURCE + filename\n",
    "        destination = VALIDATION + filename\n",
    "        copyfile(this_file, destination)"
   ]
  },
  {
   "cell_type": "code",
   "execution_count": 5,
   "id": "7f1e2f97",
   "metadata": {},
   "outputs": [],
   "source": [
    "CLOUDY_SOURCE_DIR = 'weather_content/weather_dataset/cloudy/'\n",
    "TRAINING_CLOUDY_DIR = 'weather_content/test-train-data/train/cloudy/'\n",
    "VALID_CLOUDY_DIR = 'weather_content/test-train-data/validation/cloudy/'\n",
    "\n",
    "FOGGY_SOURCE_DIR = 'weather_content/weather_dataset/foggy/'\n",
    "TRAINING_FOGGY_DIR = 'weather_content/test-train-data/train/foggy/'\n",
    "VALID_FOGGY_DIR = 'weather_content/test-train-data/validation/foggy/'\n",
    "\n",
    "RAINY_SOURCE_DIR = 'weather_content/weather_dataset/rainy/'\n",
    "TRAINING_RAINY_DIR = 'weather_content/test-train-data/train/rainy/'\n",
    "VALID_RAINY_DIR = 'weather_content/test-train-data/validation/rainy/'\n",
    "\n",
    "SHINE_SOURCE_DIR = 'weather_content/weather_dataset/shine/'\n",
    "TRAINING_SHINE_DIR = 'weather_content/test-train-data/train/shine/'\n",
    "VALID_SHINE_DIR = 'weather_content/test-train-data/validation/shine/'\n",
    "\n",
    "SUNRISE_SOURCE_DIR = 'weather_content/weather_dataset/sunrise/'\n",
    "TRAINING_SUNRISE_DIR = 'weather_content/test-train-data/train/sunrise/'\n",
    "VALID_SUNRISE_DIR = 'weather_content/test-train-data/validation/sunrise/'"
   ]
  },
  {
   "cell_type": "code",
   "execution_count": 6,
   "id": "fa572db8",
   "metadata": {},
   "outputs": [],
   "source": [
    "import os\n",
    "import random\n",
    "from shutil import copyfile\n",
    "\n",
    "split_size = .85\n",
    "\n",
    "split_data(CLOUDY_SOURCE_DIR, TRAINING_CLOUDY_DIR, VALID_CLOUDY_DIR, split_size)\n",
    "split_data(FOGGY_SOURCE_DIR, TRAINING_FOGGY_DIR, VALID_FOGGY_DIR, split_size)\n",
    "split_data(RAINY_SOURCE_DIR, TRAINING_RAINY_DIR, VALID_RAINY_DIR, split_size)\n",
    "split_data(SHINE_SOURCE_DIR, TRAINING_SHINE_DIR, VALID_SHINE_DIR, split_size)\n",
    "split_data(SUNRISE_SOURCE_DIR, TRAINING_SUNRISE_DIR, VALID_SUNRISE_DIR, split_size)\n"
   ]
  },
  {
   "cell_type": "code",
   "execution_count": 8,
   "id": "cd98739e",
   "metadata": {},
   "outputs": [
    {
     "data": {
      "image/png": "[encoded data removed]",
      "text/plain": [
       "<Figure size 648x432 with 1 Axes>"
      ]
     },
     "metadata": {
      "needs_background": "light"
     },
     "output_type": "display_data"
    }
   ],
   "source": [
    "import matplotlib.pyplot as plt\n",
    "import seaborn as sns\n",
    "from matplotlib.image import imread\n",
    "%matplotlib inline\n",
    "import pathlib\n",
    "\n",
    "image_folder = ['cloudy', 'foggy', 'rainy', 'shine', 'sunrise']\n",
    "nimgs = {}\n",
    "for i in image_folder:\n",
    "    nimages = len(os.listdir('weather_content/test-train-data/train/'+i+'/'))\n",
    "    nimgs[i]=nimages\n",
    "plt.figure(figsize=(9, 6))\n",
    "plt.bar(range(len(nimgs)), list(nimgs.values()), align='center')\n",
    "plt.xticks(range(len(nimgs)), list(nimgs.keys()))\n",
    "plt.title('Distribution of different classes in Training Dataset')\n",
    "plt.show()"
   ]
  },
  {
   "cell_type": "code",
   "execution_count": 9,
   "id": "7234a31c",
   "metadata": {},
   "outputs": [
    {
     "name": "stdout",
     "output_type": "stream",
     "text": [
      "Training cloudy images are: 255\n",
      "Training foggy images are: 255\n",
      "Training rainy images are: 255\n",
      "Training shine images are: 212\n",
      "Training sunrise images are: 297\n"
     ]
    }
   ],
   "source": [
    "for i in ['cloudy', 'foggy', 'rainy', 'shine', 'sunrise']:\n",
    "    print('Training {} images are: '.format(i)+str(len(os.listdir('weather_content/test-train-data/train/'+i+'/'))))"
   ]
  },
  {
   "cell_type": "markdown",
   "id": "bf8ed928",
   "metadata": {},
   "source": [
    "# Deep Learning with Data Augumentation\n"
   ]
  },
  {
   "cell_type": "code",
   "execution_count": 10,
   "id": "86cd0be1",
   "metadata": {},
   "outputs": [],
   "source": [
    "from tensorflow.keras.optimizers import Adam\n",
    "from tensorflow.keras.preprocessing.image import ImageDataGenerator\n",
    "from tensorflow.keras.layers import Conv2D, MaxPooling2D, Flatten, Dense, Dropout\n",
    "from tensorflow.keras.models import Sequential\n",
    "from tensorflow.keras.callbacks import EarlyStopping, ModelCheckpoint"
   ]
  },
  {
   "cell_type": "code",
   "execution_count": 11,
   "id": "dc22692a",
   "metadata": {},
   "outputs": [],
   "source": [
    "img_width=256; img_height=256\n",
    "batch_size=16"
   ]
  },
  {
   "cell_type": "code",
   "execution_count": 12,
   "id": "3e902534",
   "metadata": {},
   "outputs": [
    {
     "name": "stdout",
     "output_type": "stream",
     "text": [
      "Found 1274 images belonging to 5 classes.\n"
     ]
    }
   ],
   "source": [
    "\n",
    "TRAINING_DIR = 'weather_content/test-train-data/train/'\n",
    "\n",
    "train_datagen = ImageDataGenerator(rescale = 1/255.0,\n",
    "                                   rotation_range=30,\n",
    "                                   zoom_range=0.4,\n",
    "                                   horizontal_flip=True)\n",
    "\n",
    "train_generator = train_datagen.flow_from_directory(TRAINING_DIR,\n",
    "                                                    batch_size=batch_size,\n",
    "                                                    class_mode='categorical',\n",
    "                                                    target_size=(img_height, img_width))"
   ]
  },
  {
   "cell_type": "code",
   "execution_count": 13,
   "id": "f67c367a",
   "metadata": {},
   "outputs": [
    {
     "name": "stdout",
     "output_type": "stream",
     "text": [
      "Found 226 images belonging to 5 classes.\n"
     ]
    }
   ],
   "source": [
    "VALIDATION_DIR = 'weather_content/test-train-data/validation/'\n",
    "\n",
    "validation_datagen = ImageDataGenerator(rescale = 1/255.0)\n",
    "\n",
    "validation_generator = validation_datagen.flow_from_directory(VALIDATION_DIR,\n",
    "                                                              batch_size=batch_size,\n",
    "                                                              class_mode='categorical',\n",
    "                                                              target_size=(img_height, img_width)\n",
    "                                                             )"
   ]
  },
  {
   "cell_type": "code",
   "execution_count": 14,
   "id": "372b1071",
   "metadata": {},
   "outputs": [],
   "source": [
    "callbacks = EarlyStopping(monitor='val_loss', patience=5, verbose=1, mode='auto')\n",
    "# autosave best Model\n",
    "best_model_file = '/content/CNN_aug_best_weights.h5'\n",
    "best_model = ModelCheckpoint(best_model_file, monitor='val_acc', verbose = 1, save_best_only = True)"
   ]
  },
  {
   "cell_type": "code",
   "execution_count": 15,
   "id": "dfae36f0",
   "metadata": {},
   "outputs": [
    {
     "name": "stdout",
     "output_type": "stream",
     "text": [
      "Model: \"sequential\"\n",
      "_________________________________________________________________\n",
      "Layer (type)                 Output Shape              Param #   \n",
      "=================================================================\n",
      "conv2d (Conv2D)              (None, 254, 254, 16)      448       \n",
      "_________________________________________________________________\n",
      "max_pooling2d (MaxPooling2D) (None, 127, 127, 16)      0         \n",
      "_________________________________________________________________\n",
      "conv2d_1 (Conv2D)            (None, 125, 125, 32)      4640      \n",
      "_________________________________________________________________\n",
      "max_pooling2d_1 (MaxPooling2 (None, 62, 62, 32)        0         \n",
      "_________________________________________________________________\n",
      "conv2d_2 (Conv2D)            (None, 60, 60, 64)        18496     \n",
      "_________________________________________________________________\n",
      "conv2d_3 (Conv2D)            (None, 58, 58, 64)        36928     \n",
      "_________________________________________________________________\n",
      "max_pooling2d_2 (MaxPooling2 (None, 29, 29, 64)        0         \n",
      "_________________________________________________________________\n",
      "conv2d_4 (Conv2D)            (None, 27, 27, 128)       73856     \n",
      "_________________________________________________________________\n",
      "conv2d_5 (Conv2D)            (None, 25, 25, 128)       147584    \n",
      "_________________________________________________________________\n",
      "max_pooling2d_3 (MaxPooling2 (None, 12, 12, 128)       0         \n",
      "_________________________________________________________________\n",
      "conv2d_6 (Conv2D)            (None, 10, 10, 256)       295168    \n",
      "_________________________________________________________________\n",
      "conv2d_7 (Conv2D)            (None, 8, 8, 256)         590080    \n",
      "_________________________________________________________________\n",
      "conv2d_8 (Conv2D)            (None, 6, 6, 256)         590080    \n",
      "_________________________________________________________________\n",
      "max_pooling2d_4 (MaxPooling2 (None, 3, 3, 256)         0         \n",
      "_________________________________________________________________\n",
      "flatten (Flatten)            (None, 2304)              0         \n",
      "_________________________________________________________________\n",
      "dense (Dense)                (None, 512)               1180160   \n",
      "_________________________________________________________________\n",
      "dense_1 (Dense)              (None, 512)               262656    \n",
      "_________________________________________________________________\n",
      "dense_2 (Dense)              (None, 5)                 2565      \n",
      "=================================================================\n",
      "Total params: 3,202,661\n",
      "Trainable params: 3,202,661\n",
      "Non-trainable params: 0\n",
      "_________________________________________________________________\n"
     ]
    }
   ],
   "source": [
    "model = Sequential([\n",
    "    Conv2D(16, (3, 3), activation='relu', input_shape=(img_height, img_width, 3)), MaxPooling2D(2, 2),\n",
    "    Conv2D(32, (3, 3), activation='relu'), MaxPooling2D(2, 2),\n",
    "    Conv2D(64, (3, 3), activation='relu'),\n",
    "    Conv2D(64, (3, 3), activation='relu'),\n",
    "    MaxPooling2D(2, 2),\n",
    "    Conv2D(128, (3, 3), activation='relu'),\n",
    "    Conv2D(128, (3, 3), activation='relu'),\n",
    "    MaxPooling2D(2, 2),\n",
    "    Conv2D(256, (3, 3), activation='relu'),\n",
    "    Conv2D(256, (3, 3), activation='relu'),\n",
    "    Conv2D(256, (3, 3), activation='relu'),\n",
    "    MaxPooling2D(2, 2),\n",
    "    Flatten(),\n",
    "    Dense(512, activation='relu'),\n",
    "    Dense(512, activation='relu'),\n",
    "    Dense(5, activation='softmax')\n",
    "])\n",
    "model.summary()"
   ]
  },
  {
   "cell_type": "code",
   "execution_count": 16,
   "id": "91befbb2",
   "metadata": {},
   "outputs": [],
   "source": [
    "model.compile(optimizer='Adam', \n",
    "              loss='categorical_crossentropy', \n",
    "              metrics =['accuracy'])\n"
   ]
  },
  {
   "cell_type": "code",
   "execution_count": 18,
   "id": "b4a856ee",
   "metadata": {},
   "outputs": [
    {
     "name": "stdout",
     "output_type": "stream",
     "text": [
      "Epoch 1/30\n",
      "80/80 [==============================] - ETA: 0s - loss: 1.5849 - accuracy: 0.2645WARNING:tensorflow:Can save best model only with val_acc available, skipping.\n",
      "80/80 [==============================] - 125s 2s/step - loss: 1.5849 - accuracy: 0.2645 - val_loss: 1.4202 - val_accuracy: 0.2920\n",
      "Epoch 2/30\n",
      "80/80 [==============================] - ETA: 0s - loss: 1.2814 - accuracy: 0.4089WARNING:tensorflow:Can save best model only with val_acc available, skipping.\n",
      "80/80 [==============================] - 117s 1s/step - loss: 1.2814 - accuracy: 0.4089 - val_loss: 1.2420 - val_accuracy: 0.4425\n",
      "Epoch 3/30\n",
      "80/80 [==============================] - ETA: 0s - loss: 1.0920 - accuracy: 0.5338WARNING:tensorflow:Can save best model only with val_acc available, skipping.\n",
      "80/80 [==============================] - 120s 2s/step - loss: 1.0920 - accuracy: 0.5338 - val_loss: 0.9331 - val_accuracy: 0.6239\n",
      "Epoch 4/30\n",
      "80/80 [==============================] - ETA: 0s - loss: 1.0470 - accuracy: 0.5377WARNING:tensorflow:Can save best model only with val_acc available, skipping.\n",
      "80/80 [==============================] - 118s 1s/step - loss: 1.0470 - accuracy: 0.5377 - val_loss: 0.9305 - val_accuracy: 0.5354\n",
      "Epoch 5/30\n",
      "80/80 [==============================] - ETA: 0s - loss: 0.9861 - accuracy: 0.5542WARNING:tensorflow:Can save best model only with val_acc available, skipping.\n",
      "80/80 [==============================] - 118s 1s/step - loss: 0.9861 - accuracy: 0.5542 - val_loss: 1.1633 - val_accuracy: 0.5354\n",
      "Epoch 6/30\n",
      "80/80 [==============================] - ETA: 0s - loss: 1.0250 - accuracy: 0.5408WARNING:tensorflow:Can save best model only with val_acc available, skipping.\n",
      "80/80 [==============================] - 118s 1s/step - loss: 1.0250 - accuracy: 0.5408 - val_loss: 1.0232 - val_accuracy: 0.5177\n",
      "Epoch 7/30\n",
      "80/80 [==============================] - ETA: 0s - loss: 0.9521 - accuracy: 0.5447WARNING:tensorflow:Can save best model only with val_acc available, skipping.\n",
      "80/80 [==============================] - 117s 1s/step - loss: 0.9521 - accuracy: 0.5447 - val_loss: 0.9026 - val_accuracy: 0.5841\n",
      "Epoch 8/30\n",
      "80/80 [==============================] - ETA: 0s - loss: 0.8966 - accuracy: 0.5848WARNING:tensorflow:Can save best model only with val_acc available, skipping.\n",
      "80/80 [==============================] - 118s 1s/step - loss: 0.8966 - accuracy: 0.5848 - val_loss: 0.9019 - val_accuracy: 0.5752\n",
      "Epoch 9/30\n",
      "80/80 [==============================] - ETA: 0s - loss: 0.9300 - accuracy: 0.5856WARNING:tensorflow:Can save best model only with val_acc available, skipping.\n",
      "80/80 [==============================] - 117s 1s/step - loss: 0.9300 - accuracy: 0.5856 - val_loss: 0.9009 - val_accuracy: 0.5619\n",
      "Epoch 10/30\n",
      "80/80 [==============================] - ETA: 0s - loss: 0.9376 - accuracy: 0.5934WARNING:tensorflow:Can save best model only with val_acc available, skipping.\n",
      "80/80 [==============================] - 118s 1s/step - loss: 0.9376 - accuracy: 0.5934 - val_loss: 0.9556 - val_accuracy: 0.5796\n",
      "Epoch 11/30\n",
      "80/80 [==============================] - ETA: 0s - loss: 0.8754 - accuracy: 0.6201WARNING:tensorflow:Can save best model only with val_acc available, skipping.\n",
      "80/80 [==============================] - 118s 1s/step - loss: 0.8754 - accuracy: 0.6201 - val_loss: 0.9305 - val_accuracy: 0.5841\n",
      "Epoch 12/30\n",
      "80/80 [==============================] - ETA: 0s - loss: 0.9062 - accuracy: 0.6279WARNING:tensorflow:Can save best model only with val_acc available, skipping.\n",
      "80/80 [==============================] - 117s 1s/step - loss: 0.9062 - accuracy: 0.6279 - val_loss: 0.9058 - val_accuracy: 0.6018\n",
      "Epoch 13/30\n",
      "80/80 [==============================] - ETA: 0s - loss: 0.8906 - accuracy: 0.6154WARNING:tensorflow:Can save best model only with val_acc available, skipping.\n",
      "80/80 [==============================] - 117s 1s/step - loss: 0.8906 - accuracy: 0.6154 - val_loss: 0.8190 - val_accuracy: 0.6460\n",
      "Epoch 14/30\n",
      "80/80 [==============================] - ETA: 0s - loss: 0.8994 - accuracy: 0.6068WARNING:tensorflow:Can save best model only with val_acc available, skipping.\n",
      "80/80 [==============================] - 117s 1s/step - loss: 0.8994 - accuracy: 0.6068 - val_loss: 0.8430 - val_accuracy: 0.5796\n",
      "Epoch 15/30\n",
      "80/80 [==============================] - ETA: 0s - loss: 0.8739 - accuracy: 0.6013WARNING:tensorflow:Can save best model only with val_acc available, skipping.\n",
      "80/80 [==============================] - 117s 1s/step - loss: 0.8739 - accuracy: 0.6013 - val_loss: 0.8923 - val_accuracy: 0.6018\n",
      "Epoch 16/30\n",
      "80/80 [==============================] - ETA: 0s - loss: 0.8757 - accuracy: 0.6177WARNING:tensorflow:Can save best model only with val_acc available, skipping.\n",
      "80/80 [==============================] - 118s 1s/step - loss: 0.8757 - accuracy: 0.6177 - val_loss: 0.8400 - val_accuracy: 0.6327\n",
      "Epoch 17/30\n",
      "80/80 [==============================] - ETA: 0s - loss: 0.8478 - accuracy: 0.6303WARNING:tensorflow:Can save best model only with val_acc available, skipping.\n",
      "80/80 [==============================] - 117s 1s/step - loss: 0.8478 - accuracy: 0.6303 - val_loss: 0.8415 - val_accuracy: 0.6195\n",
      "Epoch 18/30\n",
      "80/80 [==============================] - ETA: 0s - loss: 0.8539 - accuracy: 0.6436WARNING:tensorflow:Can save best model only with val_acc available, skipping.\n",
      "80/80 [==============================] - 117s 1s/step - loss: 0.8539 - accuracy: 0.6436 - val_loss: 0.8630 - val_accuracy: 0.6106\n",
      "Epoch 19/30\n",
      "80/80 [==============================] - ETA: 0s - loss: 0.8228 - accuracy: 0.6507WARNING:tensorflow:Can save best model only with val_acc available, skipping.\n",
      "80/80 [==============================] - 117s 1s/step - loss: 0.8228 - accuracy: 0.6507 - val_loss: 0.7376 - val_accuracy: 0.6593\n",
      "Epoch 20/30\n",
      "80/80 [==============================] - ETA: 0s - loss: 0.8067 - accuracy: 0.6452WARNING:tensorflow:Can save best model only with val_acc available, skipping.\n",
      "80/80 [==============================] - 117s 1s/step - loss: 0.8067 - accuracy: 0.6452 - val_loss: 0.8193 - val_accuracy: 0.5973\n",
      "Epoch 21/30\n",
      "80/80 [==============================] - ETA: 0s - loss: 0.8011 - accuracy: 0.6264WARNING:tensorflow:Can save best model only with val_acc available, skipping.\n",
      "80/80 [==============================] - 118s 1s/step - loss: 0.8011 - accuracy: 0.6264 - val_loss: 0.7638 - val_accuracy: 0.6549\n",
      "Epoch 22/30\n",
      "80/80 [==============================] - ETA: 0s - loss: 0.8507 - accuracy: 0.6264WARNING:tensorflow:Can save best model only with val_acc available, skipping.\n",
      "80/80 [==============================] - 117s 1s/step - loss: 0.8507 - accuracy: 0.6264 - val_loss: 0.7676 - val_accuracy: 0.6549\n",
      "Epoch 23/30\n",
      "80/80 [==============================] - ETA: 0s - loss: 0.8217 - accuracy: 0.6570WARNING:tensorflow:Can save best model only with val_acc available, skipping.\n",
      "80/80 [==============================] - 117s 1s/step - loss: 0.8217 - accuracy: 0.6570 - val_loss: 0.8078 - val_accuracy: 0.6460\n",
      "Epoch 24/30\n",
      "80/80 [==============================] - ETA: 0s - loss: 0.8844 - accuracy: 0.6358WARNING:tensorflow:Can save best model only with val_acc available, skipping.\n",
      "80/80 [==============================] - 118s 1s/step - loss: 0.8844 - accuracy: 0.6358 - val_loss: 0.7905 - val_accuracy: 0.6372\n",
      "Epoch 25/30\n",
      "80/80 [==============================] - ETA: 0s - loss: 0.7815 - accuracy: 0.6609WARNING:tensorflow:Can save best model only with val_acc available, skipping.\n",
      "80/80 [==============================] - 117s 1s/step - loss: 0.7815 - accuracy: 0.6609 - val_loss: 0.7320 - val_accuracy: 0.6372\n",
      "Epoch 26/30\n",
      "80/80 [==============================] - ETA: 0s - loss: 0.7514 - accuracy: 0.6774WARNING:tensorflow:Can save best model only with val_acc available, skipping.\n",
      "80/80 [==============================] - 118s 1s/step - loss: 0.7514 - accuracy: 0.6774 - val_loss: 0.7123 - val_accuracy: 0.6858\n",
      "Epoch 27/30\n",
      "80/80 [==============================] - ETA: 0s - loss: 0.8339 - accuracy: 0.6287WARNING:tensorflow:Can save best model only with val_acc available, skipping.\n",
      "80/80 [==============================] - 116s 1s/step - loss: 0.8339 - accuracy: 0.6287 - val_loss: 0.8689 - val_accuracy: 0.6593\n",
      "Epoch 28/30\n"
     ]
    },
    {
     "name": "stdout",
     "output_type": "stream",
     "text": [
      "80/80 [==============================] - ETA: 0s - loss: 0.7605 - accuracy: 0.6711WARNING:tensorflow:Can save best model only with val_acc available, skipping.\n",
      "80/80 [==============================] - 116s 1s/step - loss: 0.7605 - accuracy: 0.6711 - val_loss: 0.7079 - val_accuracy: 0.6903\n",
      "Epoch 29/30\n",
      "80/80 [==============================] - ETA: 0s - loss: 0.7556 - accuracy: 0.6758WARNING:tensorflow:Can save best model only with val_acc available, skipping.\n",
      "80/80 [==============================] - 101s 1s/step - loss: 0.7556 - accuracy: 0.6758 - val_loss: 0.7869 - val_accuracy: 0.6416\n",
      "Epoch 30/30\n",
      "80/80 [==============================] - ETA: 0s - loss: 0.7556 - accuracy: 0.6648WARNING:tensorflow:Can save best model only with val_acc available, skipping.\n",
      "80/80 [==============================] - 73s 908ms/step - loss: 0.7556 - accuracy: 0.6648 - val_loss: 0.7255 - val_accuracy: 0.6770\n"
     ]
    }
   ],
   "source": [
    "history = model.fit(train_generator,\n",
    "                              epochs=30,\n",
    "                              verbose=1,\n",
    "                              validation_data=validation_generator,\n",
    "                              callbacks = [best_model]\n",
    "                              )"
   ]
  },
  {
   "cell_type": "code",
   "execution_count": 19,
   "id": "22648ce1",
   "metadata": {},
   "outputs": [
    {
     "data": {
      "image/png": "[encoded data removed]",
      "text/plain": [
       "<Figure size 1008x504 with 1 Axes>"
      ]
     },
     "metadata": {
      "needs_background": "light"
     },
     "output_type": "display_data"
    }
   ],
   "source": [
    "acc=history.history['accuracy']\n",
    "val_acc=history.history['val_accuracy']\n",
    "loss=history.history['loss']\n",
    "val_loss=history.history['val_loss']\n",
    "\n",
    "epochs=range(len(acc))\n",
    "\n",
    "fig = plt.figure(figsize=(14,7))\n",
    "plt.plot(epochs, acc, 'r', label=\"Training Accuracy\")\n",
    "plt.plot(epochs, val_acc, 'b', label=\"Validation Accuracy\")\n",
    "plt.xlabel('Epoch')\n",
    "plt.ylabel('Accuracy')\n",
    "plt.title('Training and validation accuracy')\n",
    "plt.legend(loc='lower right')\n",
    "plt.show()"
   ]
  },
  {
   "cell_type": "code",
   "execution_count": 20,
   "id": "e16d7332",
   "metadata": {},
   "outputs": [
    {
     "data": {
      "text/plain": [
       "Text(0.5, 1.0, 'Training and validation loss')"
      ]
     },
     "execution_count": 20,
     "metadata": {},
     "output_type": "execute_result"
    },
    {
     "data": {
      "image/png": "[encoded data removed]",
      "text/plain": [
       "<Figure size 1008x504 with 1 Axes>"
      ]
     },
     "metadata": {
      "needs_background": "light"
     },
     "output_type": "display_data"
    }
   ],
   "source": [
    "fig2 = plt.figure(figsize=(14,7))\n",
    "plt.plot(epochs, loss, 'r', label=\"Training Loss\")\n",
    "plt.plot(epochs, val_loss, 'b', label=\"Validation Loss\")\n",
    "plt.legend(loc='upper right')\n",
    "plt.xlabel('Epoch')\n",
    "plt.ylabel('Loss')\n",
    "plt.title('Training and validation loss')"
   ]
  },
  {
   "cell_type": "code",
   "execution_count": 24,
   "id": "96a07c31",
   "metadata": {},
   "outputs": [],
   "source": [
    "## Test Performance on Test Data\n",
    "\n",
    "import pandas as pd\n",
    "import numpy as np\n",
    "from tensorflow.keras.preprocessing.image import load_img, img_to_array\n",
    "\n",
    "def preprocess_image(path):\n",
    "    img = load_img(path, target_size = (img_height, img_width))\n",
    "    a = img_to_array(img)\n",
    "    a = np.expand_dims(a, axis = 0)\n",
    "    a /= 255.\n",
    "    return a"
   ]
  },
  {
   "cell_type": "code",
   "execution_count": 26,
   "id": "6fec307c",
   "metadata": {},
   "outputs": [],
   "source": [
    "# Read Test Images Dir and their labels\n",
    "test_images_dir = 'weather_content/weather_dataset/alien_test/'\n",
    "test_df = pd.read_csv('weather_content/weather_dataset/test.csv')\n",
    "\n",
    "# put them in a list\n",
    "test_dfToList = test_df['Image_id'].tolist()\n",
    "test_ids = [str(item) for item in test_dfToList]\n",
    "\n",
    "test_images = [test_images_dir+item for item in test_ids]\n",
    "test_preprocessed_images = np.vstack([preprocess_image(fn) for fn in test_images])\n",
    "np.save('weather_content/test_preproc_CNN.npy', test_preprocessed_images)"
   ]
  },
  {
   "cell_type": "code",
   "execution_count": 27,
   "id": "08dc66f0",
   "metadata": {},
   "outputs": [
    {
     "name": "stdout",
     "output_type": "stream",
     "text": [
      "30/30 [==============================] - 0s 14ms/step\n",
      "[1 1 3 3 1 1 2 1 1 1 4 3 2 1 2 2 2 1 2 2 3 3 3 4 4 4 4 4 4 2]\n"
     ]
    }
   ],
   "source": [
    "array = model.predict(test_preprocessed_images, batch_size=1, verbose=1)\n",
    "answer = np.argmax(array, axis=1)\n",
    "print(answer)"
   ]
  },
  {
   "cell_type": "code",
   "execution_count": 28,
   "id": "9faad691",
   "metadata": {},
   "outputs": [
    {
     "name": "stdout",
     "output_type": "stream",
     "text": [
      "0     0\n",
      "1     0\n",
      "2     0\n",
      "3     0\n",
      "4     1\n",
      "5     1\n",
      "6     1\n",
      "7     1\n",
      "8     1\n",
      "9     1\n",
      "10    1\n",
      "11    1\n",
      "12    1\n",
      "13    1\n",
      "14    2\n",
      "15    2\n",
      "16    2\n",
      "17    2\n",
      "18    2\n",
      "19    2\n",
      "20    3\n",
      "21    3\n",
      "22    3\n",
      "23    4\n",
      "24    4\n",
      "25    4\n",
      "26    4\n",
      "27    4\n",
      "28    4\n",
      "29    4\n",
      "Name: labels, dtype: int64\n"
     ]
    }
   ],
   "source": [
    "test_df = pd.read_csv('weather_content/weather_dataset/test.csv')\n",
    "y_true = test_df['labels']\n",
    "y_pred = array\n",
    "print(y_true)"
   ]
  },
  {
   "cell_type": "code",
   "execution_count": 29,
   "id": "732f689f",
   "metadata": {},
   "outputs": [],
   "source": [
    "from sklearn.metrics import log_loss\n",
    "loss = log_loss(y_true, y_pred, eps=1e-15, normalize=True, sample_weight=None, labels=None)"
   ]
  },
  {
   "cell_type": "code",
   "execution_count": 33,
   "id": "38abe6ea",
   "metadata": {},
   "outputs": [
    {
     "data": {
      "text/plain": [
       "array([[0, 2, 0, 2, 0],\n",
       "       [0, 6, 2, 1, 1],\n",
       "       [0, 1, 5, 0, 0],\n",
       "       [0, 0, 0, 3, 0],\n",
       "       [0, 0, 1, 0, 6]], dtype=int64)"
      ]
     },
     "execution_count": 33,
     "metadata": {},
     "output_type": "execute_result"
    }
   ],
   "source": [
    "from sklearn.metrics import confusion_matrix\n",
    "conf_mat = confusion_matrix(y_true, answer)\n",
    "conf_mat\n"
   ]
  },
  {
   "cell_type": "code",
   "execution_count": 38,
   "id": "70bc6129",
   "metadata": {},
   "outputs": [],
   "source": [
    "train_dir = 'weather_content/test-train-data/train/'\n",
    "classes = os.listdir(train_dir)"
   ]
  },
  {
   "cell_type": "code",
   "execution_count": 39,
   "id": "8680be85",
   "metadata": {},
   "outputs": [],
   "source": [
    "\n",
    "import itertools\n",
    "def plot_confusion_matrix(cm, classes,\n",
    "                          normalize=False,\n",
    "                          title='Confusion matrix',\n",
    "                          cmap=plt.cm.Reds):\n",
    "    \"\"\"\n",
    "    This function prints and plots the confusion matrix.\n",
    "    Normalization can be applied by setting `normalize=True`.\n",
    "    \"\"\"\n",
    "    plt.imshow(cm, interpolation='nearest', cmap=cmap)\n",
    "    plt.title(title)\n",
    "    plt.colorbar()\n",
    "    tick_marks = np.arange(len(classes))\n",
    "    plt.xticks(tick_marks, classes, rotation=45)\n",
    "    plt.yticks(tick_marks, classes)\n",
    "\n",
    "    if normalize:\n",
    "        cm = cm.astype('float') / cm.sum(axis=1)[:, np.newaxis]\n",
    "        cm = cm.round(2)\n",
    "        #print(\"Normalized confusion matrix\")\n",
    "    else:\n",
    "        cm=cm\n",
    "        #print('Confusion matrix, without normalization')\n",
    "\n",
    "    #print(cm)\n",
    "\n",
    "    thresh = cm.max() / 2.\n",
    "    for i, j in itertools.product(range(cm.shape[0]), range(cm.shape[1])):\n",
    "        plt.text(j, i, cm[i, j],\n",
    "                 horizontalalignment=\"center\",\n",
    "                 color=\"white\" if cm[i, j] > thresh else \"black\")\n",
    "\n",
    "    plt.tight_layout()\n",
    "    plt.ylabel('True label')\n",
    "    plt.xlabel('Predicted label')"
   ]
  },
  {
   "cell_type": "code",
   "execution_count": 40,
   "id": "1fdb3b66",
   "metadata": {},
   "outputs": [
    {
     "data": {
      "image/png": "[encoded data removed]",
      "text/plain": [
       "<Figure size 504x432 with 2 Axes>"
      ]
     },
     "metadata": {
      "needs_background": "light"
     },
     "output_type": "display_data"
    }
   ],
   "source": [
    "np.set_printoptions(precision=2)\n",
    "\n",
    "fig1 = plt.figure(figsize=(7,6))\n",
    "plot_confusion_matrix(conf_mat, classes=classes, title='Confusion matrix, without normalization')\n",
    "plt.show()"
   ]
  },
  {
   "cell_type": "code",
   "execution_count": null,
   "id": "c80bd234",
   "metadata": {},
   "outputs": [],
   "source": []
  }
 ],
 "metadata": {
  "kernelspec": {
   "display_name": "Python 3",
   "language": "python",
   "name": "python3"
  },
  "language_info": {
   "codemirror_mode": {
    "name": "ipython",
    "version": 3
   },
   "file_extension": ".py",
   "mimetype": "text/x-python",
   "name": "python",
   "nbconvert_exporter": "python",
   "pygments_lexer": "ipython3",
   "version": "3.8.8"
  }
 },
 "nbformat": 4,
 "nbformat_minor": 5
}
